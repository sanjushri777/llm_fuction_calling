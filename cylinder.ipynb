{
 "cells": [
  {
   "cell_type": "code",
   "execution_count": 1,
   "metadata": {},
   "outputs": [
    {
     "ename": "KeyError",
     "evalue": "'OPENAI_API_KEY'",
     "output_type": "error",
     "traceback": [
      "\u001b[1;31m---------------------------------------------------------------------------\u001b[0m",
      "\u001b[1;31mKeyError\u001b[0m                                  Traceback (most recent call last)",
      "Cell \u001b[1;32mIn[1], line 7\u001b[0m\n\u001b[0;32m      5\u001b[0m \u001b[38;5;28;01mfrom\u001b[39;00m \u001b[38;5;21;01mtyping\u001b[39;00m \u001b[38;5;28;01mimport\u001b[39;00m Dict\n\u001b[0;32m      6\u001b[0m _ \u001b[38;5;241m=\u001b[39m load_dotenv(find_dotenv())  \n\u001b[1;32m----> 7\u001b[0m openai\u001b[38;5;241m.\u001b[39mapi_key \u001b[38;5;241m=\u001b[39m os\u001b[38;5;241m.\u001b[39menviron[\u001b[38;5;124m'\u001b[39m\u001b[38;5;124mOPENAI_API_KEY\u001b[39m\u001b[38;5;124m'\u001b[39m]  \n\u001b[0;32m      9\u001b[0m \u001b[38;5;28;01mdef\u001b[39;00m \u001b[38;5;21mcalculate_cylinder_volume\u001b[39m(radius, height):\n\u001b[0;32m     10\u001b[0m \u001b[38;5;250m    \u001b[39m\u001b[38;5;124;03m\"\"\"\u001b[39;00m\n\u001b[0;32m     11\u001b[0m \u001b[38;5;124;03m    Calculate the volume of a cylinder using the formula:\u001b[39;00m\n\u001b[0;32m     12\u001b[0m \u001b[38;5;124;03m    Volume = π * r^2 * h\u001b[39;00m\n\u001b[0;32m     13\u001b[0m \u001b[38;5;124;03m    \"\"\"\u001b[39;00m\n",
      "File \u001b[1;32m<frozen os>:679\u001b[0m, in \u001b[0;36m__getitem__\u001b[1;34m(self, key)\u001b[0m\n",
      "\u001b[1;31mKeyError\u001b[0m: 'OPENAI_API_KEY'"
     ]
    }
   ],
   "source": [
    "import openai\n",
    "import math\n",
    "import os\n",
    "from dotenv import load_dotenv, find_dotenv\n",
    "from typing import Dict\n",
    "_ = load_dotenv(find_dotenv())  \n",
    "openai.api_key = os.environ['OPENAI_API_KEY']  \n",
    "\n",
    "def calculate_cylinder_volume(radius, height):\n",
    "    \"\"\"\n",
    "    Calculate the volume of a cylinder using the formula:\n",
    "    Volume = π * r^2 * h\n",
    "    \"\"\"\n",
    "    if radius <= 0 or height <= 0:\n",
    "        return \"Radius and height must be positive numbers.\"\n",
    "    \n",
    "    volume = math.pi * (radius ** 2) * height\n",
    "    return round(volume, 2)\n",
    "\n",
    "\n",
    "def chat_with_openai(prompt):\n",
    "    response = openai.ChatCompletion.create(\n",
    "        model=\"gpt-4\",\n",
    "        messages=[\n",
    "            {\"role\": \"system\", \"content\": \"You are an assistant that helps calculate the volume of a cylinder.\"},\n",
    "            {\"role\": \"user\", \"content\": prompt},\n",
    "        ],\n",
    "        functions=[\n",
    "            {\n",
    "                \"name\": \"calculate_cylinder_volume\",\n",
    "                \"description\": \"Calculate the volume of a cylinder given radius and height.\",\n",
    "                \"parameters\": {\n",
    "                    \"type\": \"object\",\n",
    "                    \"properties\": {\n",
    "                        \"radius\": {\"type\": \"number\", \"description\": \"Radius of the cylinder (in units)\"},\n",
    "                        \"height\": {\"type\": \"number\", \"description\": \"Height of the cylinder (in units)\"},\n",
    "                    },\n",
    "                    \"required\": [\"radius\", \"height\"],\n",
    "                },\n",
    "            }\n",
    "        ],\n",
    "        function_call=\"auto\",  \n",
    "    )\n",
    "    \n",
    "    \n",
    "    if \"function_call\" in response[\"choices\"][0][\"message\"]:\n",
    "        function_name = response[\"choices\"][0][\"message\"][\"function_call\"][\"name\"]\n",
    "        arguments = eval(response[\"choices\"][0][\"message\"][\"function_call\"][\"arguments\"])\n",
    "        if function_name == \"calculate_cylinder_volume\":\n",
    "            radius = arguments[\"radius\"]\n",
    "            height = arguments[\"height\"]\n",
    "            return calculate_cylinder_volume(radius, height)\n",
    "    \n",
    "    return response[\"choices\"][0][\"message\"][\"content\"]\n",
    "\n",
    "\n",
    "prompt = \"What is the volume of a cylinder with a radius of 5 and a height of 10?\"\n",
    "result = chat_with_openai(prompt)\n",
    "print(\"Result:\", result)\n"
   ]
  },
  {
   "cell_type": "code",
   "execution_count": null,
   "metadata": {},
   "outputs": [],
   "source": []
  },
  {
   "cell_type": "code",
   "execution_count": null,
   "metadata": {},
   "outputs": [],
   "source": []
  }
 ],
 "metadata": {
  "kernelspec": {
   "display_name": "base",
   "language": "python",
   "name": "python3"
  },
  "language_info": {
   "codemirror_mode": {
    "name": "ipython",
    "version": 3
   },
   "file_extension": ".py",
   "mimetype": "text/x-python",
   "name": "python",
   "nbconvert_exporter": "python",
   "pygments_lexer": "ipython3",
   "version": "3.11.3"
  }
 },
 "nbformat": 4,
 "nbformat_minor": 2
}
